{
 "cells": [
  {
   "cell_type": "code",
   "execution_count": 1,
   "id": "7b8cb083-0aab-498f-827e-808d70a5494c",
   "metadata": {},
   "outputs": [
    {
     "data": {
      "text/html": [
       "<p>To authorize access needed by Earth Engine, open the following\n",
       "        URL in a web browser and follow the instructions:</p>\n",
       "        <p><a href=https://code.earthengine.google.com/client-auth?scopes=https%3A//www.googleapis.com/auth/earthengine%20https%3A//www.googleapis.com/auth/devstorage.full_control&request_id=wuC77vGZ0Z2JyHk6Zu0_kQJtfguO5h5PZZmQn4pRwrw&tc=TRaICWw_i8zt-ortYRWdevkoUiHKpHaYgKhk1_p_iZs&cc=IVTLi4oD1bK7RChJYpFAtQXU-GyhZ_a7QPVOBUrdAIk>https://code.earthengine.google.com/client-auth?scopes=https%3A//www.googleapis.com/auth/earthengine%20https%3A//www.googleapis.com/auth/devstorage.full_control&request_id=wuC77vGZ0Z2JyHk6Zu0_kQJtfguO5h5PZZmQn4pRwrw&tc=TRaICWw_i8zt-ortYRWdevkoUiHKpHaYgKhk1_p_iZs&cc=IVTLi4oD1bK7RChJYpFAtQXU-GyhZ_a7QPVOBUrdAIk</a></p>\n",
       "        <p>The authorization workflow will generate a code, which you should paste in the box below.</p>\n",
       "        "
      ],
      "text/plain": [
       "<IPython.core.display.HTML object>"
      ]
     },
     "metadata": {},
     "output_type": "display_data"
    },
    {
     "name": "stdin",
     "output_type": "stream",
     "text": [
      "Enter verification code:  4/1AfJohXn8eU6R4aBm3LakcbgdkVdvewfDSTOTo37AowLMOsXvCAbG7Nmhf7Y\n"
     ]
    },
    {
     "name": "stdout",
     "output_type": "stream",
     "text": [
      "\n",
      "Successfully saved authorization token.\n"
     ]
    }
   ],
   "source": [
    "import ee\n",
    "ee.Authenticate()\n",
    "ee.Initialize()"
   ]
  },
  {
   "cell_type": "code",
   "execution_count": 19,
   "id": "b3c5c0c9-fd2c-4a4f-b15c-717607c84a3d",
   "metadata": {},
   "outputs": [
    {
     "data": {
      "text/html": [
       "\n",
       "            <style>\n",
       "                .geemap-dark {\n",
       "                    --jp-widgets-color: white;\n",
       "                    --jp-widgets-label-color: white;\n",
       "                    --jp-ui-font-color1: white;\n",
       "                    --jp-layout-color2: #454545;\n",
       "                    background-color: #383838;\n",
       "                }\n",
       "                    \n",
       "                .geemap-dark .jupyter-button {\n",
       "                    --jp-layout-color3: #383838;\n",
       "                }\n",
       "                \n",
       "                .geemap-colab {\n",
       "                    background-color: var(--colab-primary-surface-color, white);\n",
       "                }\n",
       "                    \n",
       "                .geemap-colab .jupyter-button {\n",
       "                    --jp-layout-color3: var(--colab-primary-surface-color, white);\n",
       "                }\n",
       "            </style>\n",
       "            "
      ],
      "text/plain": [
       "<IPython.core.display.HTML object>"
      ]
     },
     "metadata": {},
     "output_type": "display_data"
    }
   ],
   "source": [
    "import geemap.foliumap as geemap\n",
    "import numpy as np\n",
    "import osmnx as ox\n",
    "import json\n",
    "import math\n",
    "import matplotlib.pyplot as plt"
   ]
  },
  {
   "cell_type": "code",
   "execution_count": 17,
   "id": "13d55578-a433-44c1-85b1-c6a0ce168996",
   "metadata": {
    "scrolled": true
   },
   "outputs": [
    {
     "data": {
      "text/html": [
       "\n",
       "            <style>\n",
       "                .geemap-dark {\n",
       "                    --jp-widgets-color: white;\n",
       "                    --jp-widgets-label-color: white;\n",
       "                    --jp-ui-font-color1: white;\n",
       "                    --jp-layout-color2: #454545;\n",
       "                    background-color: #383838;\n",
       "                }\n",
       "                    \n",
       "                .geemap-dark .jupyter-button {\n",
       "                    --jp-layout-color3: #383838;\n",
       "                }\n",
       "                \n",
       "                .geemap-colab {\n",
       "                    background-color: var(--colab-primary-surface-color, white);\n",
       "                }\n",
       "                    \n",
       "                .geemap-colab .jupyter-button {\n",
       "                    --jp-layout-color3: var(--colab-primary-surface-color, white);\n",
       "                }\n",
       "            </style>\n",
       "            "
      ],
      "text/plain": [
       "<IPython.core.display.HTML object>"
      ]
     },
     "metadata": {},
     "output_type": "display_data"
    }
   ],
   "source": [
    "# Bounding box of Hong Kong\n",
    "xmin = 113.8 - 0.02\n",
    "ymin = 22.1\n",
    "xmax = 114.5 - 0.02\n",
    "ymax = 22.6\n",
    "\n",
    "# Adjust the bbox to fit lego plates of 32 x 32 pixels\n",
    "width_in_degrees = xmax - xmin\n",
    "height_in_degrees = ymax - ymin\n",
    "width_in_degrees_n = width_in_degrees * 0.9696969696969697 * 1.0078740157480315\n",
    "height_in_degrees_n = height_in_degrees * 1.0212765957446808 \n",
    "\n",
    "xmid = xmin + (width_in_degrees / 2)\n",
    "ymid = ymin + (height_in_degrees / 2)\n",
    "xmin_n = xmid - width_in_degrees_n / 2\n",
    "xmax_n = xmid + width_in_degrees_n / 2\n",
    "ymin_n = ymid - height_in_degrees_n / 2\n",
    "ymax_n = ymid + height_in_degrees_n / 2\n",
    "\n",
    "# make bounding box for Hong Kong\n",
    "hk_bbox = ee.Geometry.Rectangle([xmin_n, ymin_n, xmax_n, ymax_n])"
   ]
  },
  {
   "cell_type": "code",
   "execution_count": 18,
   "id": "5b660101-c827-4d94-a86c-c9b1eb12502b",
   "metadata": {},
   "outputs": [
    {
     "data": {
      "text/html": [
       "\n",
       "            <style>\n",
       "                .geemap-dark {\n",
       "                    --jp-widgets-color: white;\n",
       "                    --jp-widgets-label-color: white;\n",
       "                    --jp-ui-font-color1: white;\n",
       "                    --jp-layout-color2: #454545;\n",
       "                    background-color: #383838;\n",
       "                }\n",
       "                    \n",
       "                .geemap-dark .jupyter-button {\n",
       "                    --jp-layout-color3: #383838;\n",
       "                }\n",
       "                \n",
       "                .geemap-colab {\n",
       "                    background-color: var(--colab-primary-surface-color, white);\n",
       "                }\n",
       "                    \n",
       "                .geemap-colab .jupyter-button {\n",
       "                    --jp-layout-color3: var(--colab-primary-surface-color, white);\n",
       "                }\n",
       "            </style>\n",
       "            "
      ],
      "text/plain": [
       "<IPython.core.display.HTML object>"
      ]
     },
     "metadata": {},
     "output_type": "display_data"
    },
    {
     "name": "stdout",
     "output_type": "stream",
     "text": [
      "map will be 102.4 cm by 77.6cm, \n",
      "and 4.0 by 3.03125 lego plates\n"
     ]
    }
   ],
   "source": [
    "# get map projection from bbox and bedrock data\n",
    "bedrock = ee.Image('projects/tanyatsui/assets/seabed_grid').clip(hk_bbox)\n",
    "bedrock = bedrock.reproject(crs=bedrock.projection(), scale=600)\n",
    "map_projection = bedrock.projection() \n",
    "map_crs = map_projection.getInfo()['crs']\n",
    "map_transform = map_projection.getInfo()['transform']\n",
    "\n",
    "# border (land + sea border)\n",
    "border = ox.geocode_to_gdf(\"Hong Kong, China\")\n",
    "border_geojson = json.loads(border.to_json())\n",
    "border = ee.Geometry.MultiPolygon(border_geojson['features'][0]['geometry']['coordinates'])\n",
    "mask_border = ee.Image().byte().paint(border, 1)\n",
    "mask_border = mask_border.reproject(crs=map_crs, crsTransform=map_transform)\n",
    "\n",
    "# sea elevation \n",
    "mask_sea = bedrock.lte(0)\n",
    "sea = bedrock.mask(mask_sea)\n",
    "sea_threshold = -10\n",
    "sea_elevation = sea.lte(sea_threshold).multiply(-2)\n",
    "sea_elevation = sea_elevation.add(sea.gt(sea_threshold).multiply(-1))\n",
    "\n",
    "# land elevation \n",
    "mask_land = bedrock.gt(0)\n",
    "mask_combined = mask_land.And(mask_border)\n",
    "land = bedrock.mask(mask_land)\n",
    "hk = bedrock.mask(mask_combined)\n",
    "hk_elevation = hk.lte(200).multiply(1)\n",
    "hk_elevation = hk_elevation.add(hk.gt(200).And(hk.lte(400)).multiply(2))\n",
    "hk_elevation = hk_elevation.add(hk.gt(400).And(hk.lte(600)).multiply(3))\n",
    "hk_elevation = hk_elevation.add(hk.gt(600).multiply(4))\n",
    "\n",
    "# built area\n",
    "land_cover = ee.Image(\"MODIS/051/MCD12Q1/2001_01_01\").select('Land_Cover_Type_1').clip(hk_bbox)\n",
    "built = land_cover.eq(13)  # \"Urban and Built-Up\" class\n",
    "built = built.reproject(crs=map_crs, crsTransform=map_transform)\n",
    "mask_combined = mask_combined.And(built)\n",
    "built = built.mask(mask_combined)\n",
    "\n",
    "# calculate width and height of lego map\n",
    "width = bedrock.getInfo()['bands'][0]['dimensions'][0]\n",
    "height = bedrock.getInfo()['bands'][0]['dimensions'][1]\n",
    "lego_pixel_size = 8 # mm \n",
    "message = f'''map will be {width*lego_pixel_size/10} cm by {height*lego_pixel_size/10}cm, \n",
    "and {width/32} by {height/32} lego plates'''\n",
    "print(message)"
   ]
  },
  {
   "cell_type": "code",
   "execution_count": 11,
   "id": "45b97bc4-470a-4127-bd66-6fb863b736c9",
   "metadata": {},
   "outputs": [
    {
     "data": {
      "text/html": [
       "\n",
       "            <style>\n",
       "                .geemap-dark {\n",
       "                    --jp-widgets-color: white;\n",
       "                    --jp-widgets-label-color: white;\n",
       "                    --jp-ui-font-color1: white;\n",
       "                    --jp-layout-color2: #454545;\n",
       "                    background-color: #383838;\n",
       "                }\n",
       "                    \n",
       "                .geemap-dark .jupyter-button {\n",
       "                    --jp-layout-color3: #383838;\n",
       "                }\n",
       "                \n",
       "                .geemap-colab {\n",
       "                    background-color: var(--colab-primary-surface-color, white);\n",
       "                }\n",
       "                    \n",
       "                .geemap-colab .jupyter-button {\n",
       "                    --jp-layout-color3: var(--colab-primary-surface-color, white);\n",
       "                }\n",
       "            </style>\n",
       "            "
      ],
      "text/plain": [
       "<IPython.core.display.HTML object>"
      ]
     },
     "metadata": {},
     "output_type": "display_data"
    }
   ],
   "source": [
    "# layer 1 - deep sea (lego 32 x 32 base places)\n",
    "layer1_deepSea = sea_elevation.mask(sea_elevation.lte(10)).multiply(1) \n",
    "\n",
    "# make layer 2 - shallow sea + land\n",
    "layer2_shallowSea = sea_elevation.mask(sea_elevation.gte(-1)).multiply(1) \n",
    "layer2_land = land.mask(land.gt(0)).multiply(2)\n",
    "\n",
    "# layer 3 - land \n",
    "layer3_hk_1 = hk_elevation.mask(hk_elevation.gte(1)).multiply(1)\n",
    "layer3_hk_2 = hk_elevation.mask(hk_elevation.gte(2)).multiply(2)\n",
    "layer3_hk_3 = hk_elevation.mask(hk_elevation.gte(3)).multiply(3)\n",
    "layer3_hk_4 = hk_elevation.mask(hk_elevation.gte(4)).multiply(4)\n",
    "\n",
    "# layer 4 - built\n",
    "layer4_built = built"
   ]
  },
  {
   "cell_type": "code",
   "execution_count": 12,
   "id": "e5a25366-9d9d-40c4-8169-46d3b5e1e803",
   "metadata": {},
   "outputs": [
    {
     "data": {
      "text/html": [
       "\n",
       "            <style>\n",
       "                .geemap-dark {\n",
       "                    --jp-widgets-color: white;\n",
       "                    --jp-widgets-label-color: white;\n",
       "                    --jp-ui-font-color1: white;\n",
       "                    --jp-layout-color2: #454545;\n",
       "                    background-color: #383838;\n",
       "                }\n",
       "                    \n",
       "                .geemap-dark .jupyter-button {\n",
       "                    --jp-layout-color3: #383838;\n",
       "                }\n",
       "                \n",
       "                .geemap-colab {\n",
       "                    background-color: var(--colab-primary-surface-color, white);\n",
       "                }\n",
       "                    \n",
       "                .geemap-colab .jupyter-button {\n",
       "                    --jp-layout-color3: var(--colab-primary-surface-color, white);\n",
       "                }\n",
       "            </style>\n",
       "            "
      ],
      "text/plain": [
       "<IPython.core.display.HTML object>"
      ]
     },
     "metadata": {},
     "output_type": "display_data"
    },
    {
     "data": {
      "text/html": [
       "<iframe srcdoc=\"&lt;!DOCTYPE html&gt;\n",
       "&lt;html&gt;\n",
       "&lt;head&gt;\n",
       "    \n",
       "    &lt;meta http-equiv=&quot;content-type&quot; content=&quot;text/html; charset=UTF-8&quot; /&gt;\n",
       "    \n",
       "        &lt;script&gt;\n",
       "            L_NO_TOUCH = false;\n",
       "            L_DISABLE_3D = false;\n",
       "        &lt;/script&gt;\n",
       "    \n",
       "    &lt;style&gt;html, body {width: 100%;height: 100%;margin: 0;padding: 0;}&lt;/style&gt;\n",
       "    &lt;style&gt;#map {position:absolute;top:0;bottom:0;right:0;left:0;}&lt;/style&gt;\n",
       "    &lt;script src=&quot;https://cdn.jsdelivr.net/npm/leaflet@1.9.3/dist/leaflet.js&quot;&gt;&lt;/script&gt;\n",
       "    &lt;script src=&quot;https://code.jquery.com/jquery-1.12.4.min.js&quot;&gt;&lt;/script&gt;\n",
       "    &lt;script src=&quot;https://cdn.jsdelivr.net/npm/bootstrap@5.2.2/dist/js/bootstrap.bundle.min.js&quot;&gt;&lt;/script&gt;\n",
       "    &lt;script src=&quot;https://cdnjs.cloudflare.com/ajax/libs/Leaflet.awesome-markers/2.0.2/leaflet.awesome-markers.js&quot;&gt;&lt;/script&gt;\n",
       "    &lt;link rel=&quot;stylesheet&quot; href=&quot;https://cdn.jsdelivr.net/npm/leaflet@1.9.3/dist/leaflet.css&quot;/&gt;\n",
       "    &lt;link rel=&quot;stylesheet&quot; href=&quot;https://cdn.jsdelivr.net/npm/bootstrap@5.2.2/dist/css/bootstrap.min.css&quot;/&gt;\n",
       "    &lt;link rel=&quot;stylesheet&quot; href=&quot;https://netdna.bootstrapcdn.com/bootstrap/3.0.0/css/bootstrap.min.css&quot;/&gt;\n",
       "    &lt;link rel=&quot;stylesheet&quot; href=&quot;https://cdn.jsdelivr.net/npm/@fortawesome/fontawesome-free@6.2.0/css/all.min.css&quot;/&gt;\n",
       "    &lt;link rel=&quot;stylesheet&quot; href=&quot;https://cdnjs.cloudflare.com/ajax/libs/Leaflet.awesome-markers/2.0.2/leaflet.awesome-markers.css&quot;/&gt;\n",
       "    &lt;link rel=&quot;stylesheet&quot; href=&quot;https://cdn.jsdelivr.net/gh/python-visualization/folium/folium/templates/leaflet.awesome.rotate.min.css&quot;/&gt;\n",
       "    \n",
       "            &lt;meta name=&quot;viewport&quot; content=&quot;width=device-width,\n",
       "                initial-scale=1.0, maximum-scale=1.0, user-scalable=no&quot; /&gt;\n",
       "            &lt;style&gt;\n",
       "                #map_23058430c431cf83cd485c0d2a56a067 {\n",
       "                    position: relative;\n",
       "                    width: 100.0%;\n",
       "                    height: 100.0%;\n",
       "                    left: 0.0%;\n",
       "                    top: 0.0%;\n",
       "                }\n",
       "                .leaflet-container { font-size: 1rem; }\n",
       "            &lt;/style&gt;\n",
       "        \n",
       "    &lt;script src=&quot;https://cdnjs.cloudflare.com/ajax/libs/leaflet.fullscreen/1.4.2/Control.FullScreen.min.js&quot;&gt;&lt;/script&gt;\n",
       "    &lt;link rel=&quot;stylesheet&quot; href=&quot;https://cdnjs.cloudflare.com/ajax/libs/leaflet.fullscreen/1.4.2/Control.FullScreen.min.css&quot;/&gt;\n",
       "    &lt;script src=&quot;https://cdnjs.cloudflare.com/ajax/libs/leaflet.draw/1.0.2/leaflet.draw.js&quot;&gt;&lt;/script&gt;\n",
       "    &lt;link rel=&quot;stylesheet&quot; href=&quot;https://cdnjs.cloudflare.com/ajax/libs/leaflet.draw/1.0.2/leaflet.draw.css&quot;/&gt;\n",
       "    &lt;script src=&quot;https://unpkg.com/leaflet-control-geocoder/dist/Control.Geocoder.js&quot;&gt;&lt;/script&gt;\n",
       "    &lt;link rel=&quot;stylesheet&quot; href=&quot;https://unpkg.com/leaflet-control-geocoder/dist/Control.Geocoder.css&quot;/&gt;\n",
       "&lt;/head&gt;\n",
       "&lt;body&gt;\n",
       "    \n",
       "    \n",
       "            &lt;div class=&quot;folium-map&quot; id=&quot;map_23058430c431cf83cd485c0d2a56a067&quot; &gt;&lt;/div&gt;\n",
       "        \n",
       "&lt;/body&gt;\n",
       "&lt;script&gt;\n",
       "    \n",
       "    \n",
       "            var map_23058430c431cf83cd485c0d2a56a067 = L.map(\n",
       "                &quot;map_23058430c431cf83cd485c0d2a56a067&quot;,\n",
       "                {\n",
       "                    center: [22.399350718980347, 114.1028317524379],\n",
       "                    crs: L.CRS.EPSG3857,\n",
       "                    zoom: 10,\n",
       "                    zoomControl: true,\n",
       "                    preferCanvas: false,\n",
       "                    eeInitialize: true,\n",
       "                    addGoogleMap: false,\n",
       "                    pluginLatlngpopup: false,\n",
       "                    pluginFullscreen: true,\n",
       "                    pluginDraw: true,\n",
       "                    DrawExport: false,\n",
       "                    pluginMinimap: false,\n",
       "                    locateControl: false,\n",
       "                    searchControl: true,\n",
       "                    layersControl: true,\n",
       "                }\n",
       "            );\n",
       "\n",
       "            \n",
       "\n",
       "        \n",
       "    \n",
       "            var tile_layer_58a73e511a67f70c5de1544d5667aed0 = L.tileLayer(\n",
       "                &quot;https://{s}.tile.openstreetmap.org/{z}/{x}/{y}.png&quot;,\n",
       "                {&quot;attribution&quot;: &quot;Data by \\u0026copy; \\u003ca target=\\&quot;_blank\\&quot; href=\\&quot;http://openstreetmap.org\\&quot;\\u003eOpenStreetMap\\u003c/a\\u003e, under \\u003ca target=\\&quot;_blank\\&quot; href=\\&quot;http://www.openstreetmap.org/copyright\\&quot;\\u003eODbL\\u003c/a\\u003e.&quot;, &quot;detectRetina&quot;: false, &quot;maxNativeZoom&quot;: 30, &quot;maxZoom&quot;: 30, &quot;minZoom&quot;: 0, &quot;noWrap&quot;: false, &quot;opacity&quot;: 1, &quot;subdomains&quot;: &quot;abc&quot;, &quot;tms&quot;: false}\n",
       "            ).addTo(map_23058430c431cf83cd485c0d2a56a067);\n",
       "        \n",
       "    \n",
       "            L.control.fullscreen(\n",
       "                {&quot;forceSeparateButton&quot;: false, &quot;position&quot;: &quot;topleft&quot;, &quot;title&quot;: &quot;Full Screen&quot;, &quot;titleCancel&quot;: &quot;Exit Full Screen&quot;}\n",
       "            ).addTo(map_23058430c431cf83cd485c0d2a56a067);\n",
       "        \n",
       "    \n",
       "            var options = {\n",
       "              position: &quot;topleft&quot;,\n",
       "              draw: {},\n",
       "              edit: {},\n",
       "            }\n",
       "            // FeatureGroup is to store editable layers.\n",
       "            var drawnItems = new L.featureGroup().addTo(\n",
       "                map_23058430c431cf83cd485c0d2a56a067\n",
       "            );\n",
       "            options.edit.featureGroup = drawnItems;\n",
       "            var draw_control_a27792f3b444486361d421a3b7665835 = new L.Control.Draw(\n",
       "                options\n",
       "            ).addTo( map_23058430c431cf83cd485c0d2a56a067 );\n",
       "            map_23058430c431cf83cd485c0d2a56a067.on(L.Draw.Event.CREATED, function(e) {\n",
       "                var layer = e.layer,\n",
       "                    type = e.layerType;\n",
       "                var coords = JSON.stringify(layer.toGeoJSON());\n",
       "                layer.on(&#x27;click&#x27;, function() {\n",
       "                    alert(coords);\n",
       "                    console.log(coords);\n",
       "                });\n",
       "                drawnItems.addLayer(layer);\n",
       "             });\n",
       "            map_23058430c431cf83cd485c0d2a56a067.on(&#x27;draw:created&#x27;, function(e) {\n",
       "                drawnItems.addLayer(e.layer);\n",
       "            });\n",
       "            \n",
       "        \n",
       "    \n",
       "            L.Control.geocoder(\n",
       "                {&quot;collapsed&quot;: true, &quot;defaultMarkGeocode&quot;: true, &quot;position&quot;: &quot;topleft&quot;}\n",
       "            ).on(&#x27;markgeocode&#x27;, function(e) {\n",
       "                map_23058430c431cf83cd485c0d2a56a067.setView(e.geocode.center, 11);\n",
       "            }).addTo(map_23058430c431cf83cd485c0d2a56a067);\n",
       "\n",
       "        \n",
       "    \n",
       "            map_23058430c431cf83cd485c0d2a56a067.fitBounds(\n",
       "                [[22.399350718980347, 114.1028317524379], [22.399350718980347, 114.1028317524379]],\n",
       "                {&quot;maxZoom&quot;: 10}\n",
       "            );\n",
       "        \n",
       "    \n",
       "            var tile_layer_9e65e6917d83b7b7048674e5ad3f34f1 = L.tileLayer(\n",
       "                &quot;https://earthengine.googleapis.com/v1/projects/earthengine-legacy/maps/82576f1ae0739fbd5f74807d12719fd2-707376c54837c16e23fd46007df96eb4/tiles/{z}/{x}/{y}&quot;,\n",
       "                {&quot;attribution&quot;: &quot;Google Earth Engine&quot;, &quot;detectRetina&quot;: false, &quot;maxNativeZoom&quot;: 24, &quot;maxZoom&quot;: 24, &quot;minZoom&quot;: 0, &quot;noWrap&quot;: false, &quot;opacity&quot;: 1.0, &quot;subdomains&quot;: &quot;abc&quot;, &quot;tms&quot;: false}\n",
       "            ).addTo(map_23058430c431cf83cd485c0d2a56a067);\n",
       "        \n",
       "    \n",
       "            var tile_layer_54f2a8c44caea33b463768ff5673b40e = L.tileLayer(\n",
       "                &quot;https://earthengine.googleapis.com/v1/projects/earthengine-legacy/maps/b6a3f2fb5e6bbf067982c6df9acc4b95-e986e07a47237b73f4890ee8b0435a2f/tiles/{z}/{x}/{y}&quot;,\n",
       "                {&quot;attribution&quot;: &quot;Google Earth Engine&quot;, &quot;detectRetina&quot;: false, &quot;maxNativeZoom&quot;: 24, &quot;maxZoom&quot;: 24, &quot;minZoom&quot;: 0, &quot;noWrap&quot;: false, &quot;opacity&quot;: 1.0, &quot;subdomains&quot;: &quot;abc&quot;, &quot;tms&quot;: false}\n",
       "            ).addTo(map_23058430c431cf83cd485c0d2a56a067);\n",
       "        \n",
       "    \n",
       "            var tile_layer_71b0ef99b2d0d1259676579173069978 = L.tileLayer(\n",
       "                &quot;https://earthengine.googleapis.com/v1/projects/earthengine-legacy/maps/27b1f593610688337c54e59288d5b590-762c942f99c584f7fa9e1cdb6bc00eb2/tiles/{z}/{x}/{y}&quot;,\n",
       "                {&quot;attribution&quot;: &quot;Google Earth Engine&quot;, &quot;detectRetina&quot;: false, &quot;maxNativeZoom&quot;: 24, &quot;maxZoom&quot;: 24, &quot;minZoom&quot;: 0, &quot;noWrap&quot;: false, &quot;opacity&quot;: 1.0, &quot;subdomains&quot;: &quot;abc&quot;, &quot;tms&quot;: false}\n",
       "            ).addTo(map_23058430c431cf83cd485c0d2a56a067);\n",
       "        \n",
       "    \n",
       "            var tile_layer_bc7a80e1bf61263ae9cd4a7f48fee916 = L.tileLayer(\n",
       "                &quot;https://earthengine.googleapis.com/v1/projects/earthengine-legacy/maps/9ef798a7b0f264aa9c31ce7ab8107ca9-62274b8c4a203f4b9e3991463c009922/tiles/{z}/{x}/{y}&quot;,\n",
       "                {&quot;attribution&quot;: &quot;Google Earth Engine&quot;, &quot;detectRetina&quot;: false, &quot;maxNativeZoom&quot;: 24, &quot;maxZoom&quot;: 24, &quot;minZoom&quot;: 0, &quot;noWrap&quot;: false, &quot;opacity&quot;: 1.0, &quot;subdomains&quot;: &quot;abc&quot;, &quot;tms&quot;: false}\n",
       "            ).addTo(map_23058430c431cf83cd485c0d2a56a067);\n",
       "        \n",
       "    \n",
       "            var tile_layer_c573c8d8359a3cf91c04984198a7d974 = L.tileLayer(\n",
       "                &quot;https://earthengine.googleapis.com/v1/projects/earthengine-legacy/maps/bcd33a724a0beba5535e27dd34fe3202-7c29df3eb9c48f2dadfaa1263e0e47d4/tiles/{z}/{x}/{y}&quot;,\n",
       "                {&quot;attribution&quot;: &quot;Google Earth Engine&quot;, &quot;detectRetina&quot;: false, &quot;maxNativeZoom&quot;: 24, &quot;maxZoom&quot;: 24, &quot;minZoom&quot;: 0, &quot;noWrap&quot;: false, &quot;opacity&quot;: 1.0, &quot;subdomains&quot;: &quot;abc&quot;, &quot;tms&quot;: false}\n",
       "            ).addTo(map_23058430c431cf83cd485c0d2a56a067);\n",
       "        \n",
       "    \n",
       "            var tile_layer_271f9f7f8c807794f8439b49b1245fed = L.tileLayer(\n",
       "                &quot;https://earthengine.googleapis.com/v1/projects/earthengine-legacy/maps/88ccc1a07713845c7b6c428aa3171a8c-c8b73c511b32b6a28c396d7cb7a19d4d/tiles/{z}/{x}/{y}&quot;,\n",
       "                {&quot;attribution&quot;: &quot;Google Earth Engine&quot;, &quot;detectRetina&quot;: false, &quot;maxNativeZoom&quot;: 24, &quot;maxZoom&quot;: 24, &quot;minZoom&quot;: 0, &quot;noWrap&quot;: false, &quot;opacity&quot;: 1.0, &quot;subdomains&quot;: &quot;abc&quot;, &quot;tms&quot;: false}\n",
       "            ).addTo(map_23058430c431cf83cd485c0d2a56a067);\n",
       "        \n",
       "    \n",
       "            var tile_layer_2463536d10a2fa66e01bc80f8971c739 = L.tileLayer(\n",
       "                &quot;https://earthengine.googleapis.com/v1/projects/earthengine-legacy/maps/0b66de500e935b5d755b5eb18faa6748-8cb759537ebe15d970c149a7bf52c6c0/tiles/{z}/{x}/{y}&quot;,\n",
       "                {&quot;attribution&quot;: &quot;Google Earth Engine&quot;, &quot;detectRetina&quot;: false, &quot;maxNativeZoom&quot;: 24, &quot;maxZoom&quot;: 24, &quot;minZoom&quot;: 0, &quot;noWrap&quot;: false, &quot;opacity&quot;: 1.0, &quot;subdomains&quot;: &quot;abc&quot;, &quot;tms&quot;: false}\n",
       "            ).addTo(map_23058430c431cf83cd485c0d2a56a067);\n",
       "        \n",
       "    \n",
       "            var tile_layer_7c4361955212c784b1dee67ccca1154a = L.tileLayer(\n",
       "                &quot;https://earthengine.googleapis.com/v1/projects/earthengine-legacy/maps/8355d333cf005fab99d9569c14407e07-64065048fc63899f342d4cad31cbcd77/tiles/{z}/{x}/{y}&quot;,\n",
       "                {&quot;attribution&quot;: &quot;Google Earth Engine&quot;, &quot;detectRetina&quot;: false, &quot;maxNativeZoom&quot;: 24, &quot;maxZoom&quot;: 24, &quot;minZoom&quot;: 0, &quot;noWrap&quot;: false, &quot;opacity&quot;: 1.0, &quot;subdomains&quot;: &quot;abc&quot;, &quot;tms&quot;: false}\n",
       "            ).addTo(map_23058430c431cf83cd485c0d2a56a067);\n",
       "        \n",
       "    \n",
       "            var layer_control_33d4d0c34b5a5017b970c8003597dcb2 = {\n",
       "                base_layers : {\n",
       "                    &quot;openstreetmap&quot; : tile_layer_58a73e511a67f70c5de1544d5667aed0,\n",
       "                },\n",
       "                overlays :  {\n",
       "                    &quot;deep sea&quot; : tile_layer_9e65e6917d83b7b7048674e5ad3f34f1,\n",
       "                    &quot;shallow sea&quot; : tile_layer_54f2a8c44caea33b463768ff5673b40e,\n",
       "                    &quot;land&quot; : tile_layer_71b0ef99b2d0d1259676579173069978,\n",
       "                    &quot;hk_elevation_1&quot; : tile_layer_bc7a80e1bf61263ae9cd4a7f48fee916,\n",
       "                    &quot;hk_elevation_2&quot; : tile_layer_c573c8d8359a3cf91c04984198a7d974,\n",
       "                    &quot;hk_elevation_3&quot; : tile_layer_271f9f7f8c807794f8439b49b1245fed,\n",
       "                    &quot;hk_elevation_4&quot; : tile_layer_2463536d10a2fa66e01bc80f8971c739,\n",
       "                    &quot;built&quot; : tile_layer_7c4361955212c784b1dee67ccca1154a,\n",
       "                },\n",
       "            };\n",
       "            L.control.layers(\n",
       "                layer_control_33d4d0c34b5a5017b970c8003597dcb2.base_layers,\n",
       "                layer_control_33d4d0c34b5a5017b970c8003597dcb2.overlays,\n",
       "                {&quot;autoZIndex&quot;: true, &quot;collapsed&quot;: true, &quot;position&quot;: &quot;topright&quot;}\n",
       "            ).addTo(map_23058430c431cf83cd485c0d2a56a067);\n",
       "        \n",
       "&lt;/script&gt;\n",
       "&lt;/html&gt;\" width=\"100%\" height=\"600\"style=\"border:none !important;\" \"allowfullscreen\" \"webkitallowfullscreen\" \"mozallowfullscreen\"></iframe>"
      ],
      "text/plain": [
       "<geemap.foliumap.Map at 0x19097ce5280>"
      ]
     },
     "execution_count": 12,
     "metadata": {},
     "output_type": "execute_result"
    }
   ],
   "source": [
    "m = geemap.Map(center=[22.399350718980347, 114.1028317524379], zoom=10)\n",
    "m.addLayer(layer1_deepSea, {'palette': ['#243757']}, 'deep sea')\n",
    "m.addLayer(layer2_shallowSea, {'palette': ['#0057A6']}, 'shallow sea')\n",
    "m.addLayer(layer2_land, {'palette': ['#9C9C9C']}, 'land')\n",
    "m.addLayer(layer3_hk_1, {'palette': ['#00923D']}, 'hk_elevation_1')\n",
    "m.addLayer(layer3_hk_2, {'palette': ['#10CB31']}, 'hk_elevation_2')\n",
    "m.addLayer(layer3_hk_3, {'palette': ['#C4E000']}, 'hk_elevation_3')\n",
    "m.addLayer(layer3_hk_4, {'palette': ['#FFE001']}, 'hk_elevation_4')\n",
    "m.addLayer(built, {'palette': ['#FF7E14']}, 'built')\n",
    "m"
   ]
  },
  {
   "cell_type": "code",
   "execution_count": 13,
   "id": "3793926e-e8c9-42a5-9f54-52caba673752",
   "metadata": {},
   "outputs": [
    {
     "data": {
      "text/html": [
       "\n",
       "            <style>\n",
       "                .geemap-dark {\n",
       "                    --jp-widgets-color: white;\n",
       "                    --jp-widgets-label-color: white;\n",
       "                    --jp-ui-font-color1: white;\n",
       "                    --jp-layout-color2: #454545;\n",
       "                    background-color: #383838;\n",
       "                }\n",
       "                    \n",
       "                .geemap-dark .jupyter-button {\n",
       "                    --jp-layout-color3: #383838;\n",
       "                }\n",
       "                \n",
       "                .geemap-colab {\n",
       "                    background-color: var(--colab-primary-surface-color, white);\n",
       "                }\n",
       "                    \n",
       "                .geemap-colab .jupyter-button {\n",
       "                    --jp-layout-color3: var(--colab-primary-surface-color, white);\n",
       "                }\n",
       "            </style>\n",
       "            "
      ],
      "text/plain": [
       "<IPython.core.display.HTML object>"
      ]
     },
     "metadata": {},
     "output_type": "display_data"
    },
    {
     "name": "stdout",
     "output_type": "stream",
     "text": [
      "CPU times: total: 8.97 s\n",
      "Wall time: 15.9 s\n"
     ]
    }
   ],
   "source": [
    "%%time\n",
    "\n",
    "def get_array(eeImage, bandName):\n",
    "    data = eeImage.sampleRectangle(region=hk_bbox, defaultValue=0).get(bandName).getInfo()\n",
    "    return np.array(data)\n",
    "\n",
    "layers_dict = {\n",
    "    'layer2_shallowSea': [layer2_shallowSea, 'b1'], 'layer2_land': [layer2_land, 'b1'], \n",
    "    'layer3_hk_1': [layer3_hk_1, 'b1'], 'layer3_hk_2': [layer3_hk_2, 'b1'], \n",
    "    'layer3_hk_3': [layer3_hk_3, 'b1'], 'layer3_hk_4': [layer3_hk_4, 'b1'], \n",
    "    'layer4_built': [built, 'Land_Cover_Type_1']\n",
    "}\n",
    "\n",
    "arrays_dict = {}\n",
    "for name, eeImage_list in layers_dict.items(): \n",
    "    array = get_array(eeImage_list[0], eeImage_list[1])\n",
    "    arrays_dict[name] = array\n",
    "    np.save(f'data/{name}.npy', array)"
   ]
  },
  {
   "cell_type": "code",
   "execution_count": 91,
   "id": "fbdfa275-375a-4d3b-8663-542e029f0b9e",
   "metadata": {
    "scrolled": true
   },
   "outputs": [
    {
     "data": {
      "text/html": [
       "\n",
       "            <style>\n",
       "                .geemap-dark {\n",
       "                    --jp-widgets-color: white;\n",
       "                    --jp-widgets-label-color: white;\n",
       "                    --jp-ui-font-color1: white;\n",
       "                    --jp-layout-color2: #454545;\n",
       "                    background-color: #383838;\n",
       "                }\n",
       "                    \n",
       "                .geemap-dark .jupyter-button {\n",
       "                    --jp-layout-color3: #383838;\n",
       "                }\n",
       "                \n",
       "                .geemap-colab {\n",
       "                    background-color: var(--colab-primary-surface-color, white);\n",
       "                }\n",
       "                    \n",
       "                .geemap-colab .jupyter-button {\n",
       "                    --jp-layout-color3: var(--colab-primary-surface-color, white);\n",
       "                }\n",
       "            </style>\n",
       "            "
      ],
      "text/plain": [
       "<IPython.core.display.HTML object>"
      ]
     },
     "metadata": {},
     "output_type": "display_data"
    },
    {
     "name": "stdout",
     "output_type": "stream",
     "text": [
      "layer2_shallowSea\n"
     ]
    },
    {
     "data": {
      "image/png": "[encoded data removed]",
      "text/plain": [
       "<Figure size 640x480 with 2 Axes>"
      ]
     },
     "metadata": {},
     "output_type": "display_data"
    },
    {
     "name": "stdout",
     "output_type": "stream",
     "text": [
      "layer2_land\n"
     ]
    },
    {
     "data": {
      "image/png": "[encoded data removed]",
      "text/plain": [
       "<Figure size 640x480 with 2 Axes>"
      ]
     },
     "metadata": {},
     "output_type": "display_data"
    },
    {
     "name": "stdout",
     "output_type": "stream",
     "text": [
      "layer3_hk_1\n"
     ]
    },
    {
     "data": {
      "image/png": "[encoded data removed]",
      "text/plain": [
       "<Figure size 640x480 with 2 Axes>"
      ]
     },
     "metadata": {},
     "output_type": "display_data"
    },
    {
     "name": "stdout",
     "output_type": "stream",
     "text": [
      "layer3_hk_2\n"
     ]
    },
    {
     "data": {
      "image/png": "[encoded data removed]",
      "text/plain": [
       "<Figure size 640x480 with 2 Axes>"
      ]
     },
     "metadata": {},
     "output_type": "display_data"
    },
    {
     "name": "stdout",
     "output_type": "stream",
     "text": [
      "layer3_hk_3\n"
     ]
    },
    {
     "data": {
      "image/png": "[encoded data removed]",
      "text/plain": [
       "<Figure size 640x480 with 2 Axes>"
      ]
     },
     "metadata": {},
     "output_type": "display_data"
    },
    {
     "name": "stdout",
     "output_type": "stream",
     "text": [
      "layer3_hk_4\n"
     ]
    },
    {
     "data": {
      "image/png": "[encoded data removed]",
      "text/plain": [
       "<Figure size 640x480 with 2 Axes>"
      ]
     },
     "metadata": {},
     "output_type": "display_data"
    },
    {
     "name": "stdout",
     "output_type": "stream",
     "text": [
      "built\n"
     ]
    },
    {
     "data": {
      "image/png": "[encoded data removed]",
      "text/plain": [
       "<Figure size 640x480 with 2 Axes>"
      ]
     },
     "metadata": {},
     "output_type": "display_data"
    }
   ],
   "source": [
    "for name, array in arrays_dict.items(): \n",
    "    print(name)\n",
    "    plt.imshow(array, cmap='gray', origin='lower')  # 'cmap' specifies the color map; 'gray' is just an example\n",
    "    plt.colorbar()  # Adds a colorbar to indicate values\n",
    "    plt.show()"
   ]
  },
  {
   "cell_type": "code",
   "execution_count": null,
   "id": "874fe1ae-d0d0-4cb9-9ef3-abad5df33aeb",
   "metadata": {},
   "outputs": [],
   "source": []
  },
  {
   "cell_type": "code",
   "execution_count": null,
   "id": "16c5be33-b7cd-431e-87fd-d711a14e219d",
   "metadata": {},
   "outputs": [],
   "source": []
  },
  {
   "cell_type": "code",
   "execution_count": null,
   "id": "9d67ebee-05ab-4cec-ab6b-d6ea5fc3489f",
   "metadata": {},
   "outputs": [],
   "source": []
  },
  {
   "cell_type": "code",
   "execution_count": null,
   "id": "6b00091d-5dea-4370-9fae-fa88a9254582",
   "metadata": {},
   "outputs": [],
   "source": []
  },
  {
   "cell_type": "code",
   "execution_count": null,
   "id": "ac6e9697-36dc-4a97-a09f-00383672da31",
   "metadata": {},
   "outputs": [],
   "source": []
  },
  {
   "cell_type": "code",
   "execution_count": 138,
   "id": "e09d635a-6daa-4197-a601-5ea43ddd628a",
   "metadata": {
    "scrolled": true
   },
   "outputs": [
    {
     "data": {
      "text/html": [
       "\n",
       "            <style>\n",
       "                .geemap-dark {\n",
       "                    --jp-widgets-color: white;\n",
       "                    --jp-widgets-label-color: white;\n",
       "                    --jp-ui-font-color1: white;\n",
       "                    --jp-layout-color2: #454545;\n",
       "                    background-color: #383838;\n",
       "                }\n",
       "                    \n",
       "                .geemap-dark .jupyter-button {\n",
       "                    --jp-layout-color3: #383838;\n",
       "                }\n",
       "                \n",
       "                .geemap-colab {\n",
       "                    background-color: var(--colab-primary-surface-color, white);\n",
       "                }\n",
       "                    \n",
       "                .geemap-colab .jupyter-button {\n",
       "                    --jp-layout-color3: var(--colab-primary-surface-color, white);\n",
       "                }\n",
       "            </style>\n",
       "            "
      ],
      "text/plain": [
       "<IPython.core.display.HTML object>"
      ]
     },
     "metadata": {},
     "output_type": "display_data"
    },
    {
     "data": {
      "text/html": [
       "<div><style>:root {\n",
       "  --font-color-primary: var(--jp-content-font-color0, rgba(0, 0, 0, 1));\n",
       "  --font-color-secondary: var(--jp-content-font-color2, rgba(0, 0, 0, 0.6));\n",
       "  --font-color-accent: rgba(123, 31, 162, 1);\n",
       "  --border-color: var(--jp-border-color2, #e0e0e0);\n",
       "  --background-color: var(--jp-layout-color0, white);\n",
       "  --background-color-row-even: var(--jp-layout-color1, white);\n",
       "  --background-color-row-odd: var(--jp-layout-color2, #eeeeee);\n",
       "}\n",
       "\n",
       "html[theme=\"dark\"],\n",
       "body[data-theme=\"dark\"],\n",
       "body.vscode-dark {\n",
       "  --font-color-primary: rgba(255, 255, 255, 1);\n",
       "  --font-color-secondary: rgba(255, 255, 255, 0.6);\n",
       "  --font-color-accent: rgb(173, 132, 190);\n",
       "  --border-color: #2e2e2e;\n",
       "  --background-color: #111111;\n",
       "  --background-color-row-even: #111111;\n",
       "  --background-color-row-odd: #313131;\n",
       "}\n",
       "\n",
       ".ee {\n",
       "  padding: 1em;\n",
       "  line-height: 1.5em;\n",
       "  min-width: 300px;\n",
       "  max-width: 1200px;\n",
       "  overflow-y: scroll;\n",
       "  max-height: 600px;\n",
       "  border: 1px solid var(--border-color);\n",
       "  font-family: monospace;\n",
       "}\n",
       "\n",
       ".ee li {\n",
       "  list-style-type: none;\n",
       "}\n",
       "\n",
       ".ee ul {\n",
       "  padding-left: 1.5em !important;\n",
       "  margin: 0;\n",
       "}\n",
       "\n",
       ".ee > ul {\n",
       "  padding-left: 0 !important;\n",
       "}\n",
       "\n",
       ".ee-open,\n",
       ".ee-shut {\n",
       "  color: var(--font-color-secondary);\n",
       "  cursor: pointer;\n",
       "  margin: 0;\n",
       "}\n",
       "\n",
       ".ee-open:hover,\n",
       ".ee-shut:hover {\n",
       "  color: var(--font-color-primary);\n",
       "}\n",
       "\n",
       ".ee-k {\n",
       "  color: var(--font-color-accent);\n",
       "  margin-right: 6px;\n",
       "}\n",
       "\n",
       ".ee-v {\n",
       "  color: var(--font-color-primary);\n",
       "}\n",
       "\n",
       ".ee-toggle {\n",
       "  display: none;\n",
       "}\n",
       "\n",
       ".ee-shut + ul {\n",
       "  display: none;\n",
       "}\n",
       "\n",
       ".ee-open + ul {\n",
       "  display: block;\n",
       "}\n",
       "\n",
       ".ee-shut::before {\n",
       "  display: inline-block;\n",
       "  content: \"▼\";\n",
       "  margin-right: 6px;\n",
       "  transform: rotate(-90deg);\n",
       "  transition: transform 0.2s;\n",
       "}\n",
       "\n",
       ".ee-open::before {\n",
       "  transform: rotate(0deg);\n",
       "  display: inline-block;\n",
       "  content: \"▼\";\n",
       "  margin-right: 6px;\n",
       "  transition: transform 0.2s;\n",
       "}\n",
       "</style><div class='ee'><ul><li><label class='ee-shut'>Image projects/tanyatsui/assets/seabed_grid (1 band)<input type='checkbox' class='ee-toggle'></label><ul><li><span class='ee-k'>type:</span><span class='ee-v'>Image</span></li><li><span class='ee-k'>id:</span><span class='ee-v'>projects/tanyatsui/assets/seabed_grid</span></li><li><span class='ee-k'>version:</span><span class='ee-v'>1697647745733149</span></li><li><label class='ee-shut'>bands: List (1 element)<input type='checkbox' class='ee-toggle'></label><ul><li><label class='ee-shut'>0: \"b1\", signed int16, EPSG:4326, 177x128 px<input type='checkbox' class='ee-toggle'></label><ul><li><span class='ee-k'>id:</span><span class='ee-v'>b1</span></li><li><span class='ee-k'>crs:</span><span class='ee-v'>EPSG:4326</span></li><li><label class='ee-shut'>crs_transform: List (6 elements)<input type='checkbox' class='ee-toggle'></label><ul><li><span class='ee-k'>0:</span><span class='ee-v'>0.004491576420597608</span></li><li><span class='ee-k'>1:</span><span class='ee-v'>0</span></li><li><span class='ee-k'>2:</span><span class='ee-v'>0</span></li><li><span class='ee-k'>3:</span><span class='ee-v'>0</span></li><li><span class='ee-k'>4:</span><span class='ee-v'>0.004491576420597608</span></li><li><span class='ee-k'>5:</span><span class='ee-v'>0</span></li></ul></li><li><label class='ee-shut'>data_type: signed int16<input type='checkbox' class='ee-toggle'></label><ul><li><span class='ee-k'>type:</span><span class='ee-v'>PixelType</span></li><li><span class='ee-k'>max:</span><span class='ee-v'>32767</span></li><li><span class='ee-k'>min:</span><span class='ee-v'>-32768</span></li><li><span class='ee-k'>precision:</span><span class='ee-v'>int</span></li></ul></li><li><label class='ee-shut'>dimensions: [177, 128]<input type='checkbox' class='ee-toggle'></label><ul><li><span class='ee-k'>0:</span><span class='ee-v'>177</span></li><li><span class='ee-k'>1:</span><span class='ee-v'>128</span></li></ul></li><li><label class='ee-shut'>origin: [25326, 4912]<input type='checkbox' class='ee-toggle'></label><ul><li><span class='ee-k'>0:</span><span class='ee-v'>25326</span></li><li><span class='ee-k'>1:</span><span class='ee-v'>4912</span></li></ul></li></ul></li></ul></li><li><label class='ee-shut'>properties: Object (2 properties)<input type='checkbox' class='ee-toggle'></label><ul><li><span class='ee-k'>system:asset_size:</span><span class='ee-v'>77344</span></li><li><label class='ee-shut'>system:footprint: Polygon (5 vertices)<input type='checkbox' class='ee-toggle'></label><ul><li><span class='ee-k'>type:</span><span class='ee-v'>Polygon</span></li><li><label class='ee-shut'>coordinates: List (1 element)<input type='checkbox' class='ee-toggle'></label><ul><li><label class='ee-shut'>0: List (5 elements)<input type='checkbox' class='ee-toggle'></label><ul><li><label class='ee-shut'>0: [113.75577515974584, 22.06877890799013]<input type='checkbox' class='ee-toggle'></label><ul><li><span class='ee-k'>0:</span><span class='ee-v'>113.75577515974584</span></li><li><span class='ee-k'>1:</span><span class='ee-v'>22.06877890799013</span></li></ul></li><li><label class='ee-shut'>1: [114.54454756067798, 22.068778907990126]<input type='checkbox' class='ee-toggle'></label><ul><li><span class='ee-k'>0:</span><span class='ee-v'>114.54454756067798</span></li><li><span class='ee-k'>1:</span><span class='ee-v'>22.068778907990126</span></li></ul></li><li><label class='ee-shut'>2: [114.54454756067798, 22.630976259670383]<input type='checkbox' class='ee-toggle'></label><ul><li><span class='ee-k'>0:</span><span class='ee-v'>114.54454756067798</span></li><li><span class='ee-k'>1:</span><span class='ee-v'>22.630976259670383</span></li></ul></li><li><label class='ee-shut'>3: [113.75577515974585, 22.630976259670383]<input type='checkbox' class='ee-toggle'></label><ul><li><span class='ee-k'>0:</span><span class='ee-v'>113.75577515974585</span></li><li><span class='ee-k'>1:</span><span class='ee-v'>22.630976259670383</span></li></ul></li><li><label class='ee-shut'>4: [113.75577515974584, 22.06877890799013]<input type='checkbox' class='ee-toggle'></label><ul><li><span class='ee-k'>0:</span><span class='ee-v'>113.75577515974584</span></li><li><span class='ee-k'>1:</span><span class='ee-v'>22.06877890799013</span></li></ul></li></ul></li></ul></li></ul></li></ul></li></ul></li></ul></div><script>function toggleHeader() {\n",
       "    const parent = this.parentElement;\n",
       "    parent.className = parent.className === \"ee-open\" ? \"ee-shut\" : \"ee-open\";\n",
       "}\n",
       "\n",
       "for (let c of document.getElementsByClassName(\"ee-toggle\")) {\n",
       "    c.onclick = toggleHeader;\n",
       "}</script></div>"
      ],
      "text/plain": [
       "<ee.image.Image at 0x1bf79124ee0>"
      ]
     },
     "execution_count": 138,
     "metadata": {},
     "output_type": "execute_result"
    }
   ],
   "source": [
    "pixel_width = 500 # 'scale' param in ee.Image.reproject()\n",
    "legoPlate_size = pixel_width * 32 # 32 pixels, each 500m \n",
    "\n",
    "xmin = 113.8\n",
    "ymin = 22.1\n",
    "xmax = 114.5\n",
    "ymax = 22.6\n",
    "\n",
    "# extract xmin, ymin, xmax, ymax in meters - EPSG:32649\n",
    "bottomLeft_coord = ee.Geometry.Point([xmin, ymin], 'EPSG:4326').transform('EPSG:32649', maxError=1)\n",
    "topRight_coord = ee.Geometry.Point([xmax, ymax], 'EPSG:4326').transform('EPSG:32649', maxError=1)\n",
    "xmin, ymin = bottomLeft_coord.getInfo()['coordinates']\n",
    "xmax, ymax = topRight_coord.getInfo()['coordinates']\n",
    "\n",
    "# adjust bbox to fit lego plates of 32 x 32 pixels of 500 m each \n",
    "width = xmax - xmin\n",
    "height = ymax - ymin\n",
    "width_n = math.ceil(width/legoPlate_size) * legoPlate_size\n",
    "height_n = math.ceil(height/legoPlate_size) * legoPlate_size\n",
    "\n",
    "xmid, ymid = xmin + width/2, ymin + height/2\n",
    "xmin_n, ymin_n = xmid - width_n/2, ymid - height_n/2\n",
    "xmax_n, ymax_n = xmid + width_n/2, ymid + height_n/2\n",
    "\n",
    "# convert bbox coords back into degrees - EPSG:4326\n",
    "bottomLeft_coord_n = ee.Geometry.Point([xmin_n, ymin_n], 'EPSG:32649').transform('EPSG:4326', maxError=1)\n",
    "topRight_coord_n = ee.Geometry.Point([xmax_n, ymax_n], 'EPSG:32649').transform('EPSG:4326', maxError=1)\n",
    "xmin, ymin = bottomLeft_coord_n.getInfo()['coordinates']\n",
    "xmax, ymax = topRight_coord_n.getInfo()['coordinates']\n",
    "\n",
    "# Define a new projection with your desired resolution and CRS\n",
    "origin = [xmin, ymax] # Top-left corner of your bounding box\n",
    "desired_projection = ee.Projection('EPSG:4326').atScale(pixel_width)\n",
    "# adjusted_projection = desired_projection.translate(xmin - desired_projection.getInfo()['transform'][2], ymax - desired_projection.getInfo()['transform'][5])\n",
    "# adjusted_projection = adjusted_projection.transform('EPSG:4326')\n",
    "\n",
    "# define bbox, map\n",
    "hk_bbox = ee.Geometry.Rectangle([xmin, ymin, xmax, ymax])\n",
    "bedrock = ee.Image('projects/tanyatsui/assets/seabed_grid').clip(hk_bbox)\n",
    "# bedrock = bedrock.reproject(crs=bedrock.projection(), scale=pixel_width)\n",
    "bedrock = bedrock.reproject(desired_projection)\n",
    "width = bedrock.getInfo()['bands'][0]['dimensions'][0]\n",
    "height = bedrock.getInfo()['bands'][0]['dimensions'][1]\n",
    "# width = 178\n",
    "# height = 127 \n",
    "bedrock"
   ]
  },
  {
   "cell_type": "code",
   "execution_count": 118,
   "id": "7210917c-ffef-436d-8c40-0c4533814e85",
   "metadata": {},
   "outputs": [
    {
     "data": {
      "text/html": [
       "\n",
       "            <style>\n",
       "                .geemap-dark {\n",
       "                    --jp-widgets-color: white;\n",
       "                    --jp-widgets-label-color: white;\n",
       "                    --jp-ui-font-color1: white;\n",
       "                    --jp-layout-color2: #454545;\n",
       "                    background-color: #383838;\n",
       "                }\n",
       "                    \n",
       "                .geemap-dark .jupyter-button {\n",
       "                    --jp-layout-color3: #383838;\n",
       "                }\n",
       "                \n",
       "                .geemap-colab {\n",
       "                    background-color: var(--colab-primary-surface-color, white);\n",
       "                }\n",
       "                    \n",
       "                .geemap-colab .jupyter-button {\n",
       "                    --jp-layout-color3: var(--colab-primary-surface-color, white);\n",
       "                }\n",
       "            </style>\n",
       "            "
      ],
      "text/plain": [
       "<IPython.core.display.HTML object>"
      ]
     },
     "metadata": {},
     "output_type": "display_data"
    },
    {
     "name": "stdout",
     "output_type": "stream",
     "text": [
      "0.7000000000000028 0.5\n",
      "112.68557005215145 112.44643731973301\n",
      "788898.3027491474 2446552.889867954 859892.3084261614 2503468.8771820036\n",
      "824395.3055876545 2475010.8835249785\n",
      "784395.3055876545 2443010.8835249785 864395.3055876545 2507010.8835249785\n",
      "80000 64000\n",
      "width = 5.0 plates | height = 4.0 plates\n",
      "80000.0 64000.0\n",
      "113.75577515974584 22.06877890799013 114.54454756067797 22.630976259670387\n",
      "0.7887724009321317 0.5621973516802576\n"
     ]
    }
   ],
   "source": [
    "pixel_width = 500 # 'scale' param in ee.Image.reproject()\n",
    "legoPlate_size = pixel_width * 32 # 32 pixels, each 500m \n",
    "\n",
    "xmin = 113.8\n",
    "ymin = 22.1\n",
    "xmax = 114.5\n",
    "ymax = 22.6\n",
    "print(xmax-xmin, ymax-ymin)\n",
    "\n",
    "# extract xmin, ymin, xmax, ymax in meters - EPSG:32649\n",
    "bottomLeft_coord = ee.Geometry.Point([xmin, ymin], 'EPSG:4326').transform('EPSG:32649', maxError=1)\n",
    "topRight_coord = ee.Geometry.Point([xmax, ymax], 'EPSG:4326').transform('EPSG:32649', maxError=1)\n",
    "xmin, ymin = bottomLeft_coord.getInfo()['coordinates'][0], bottomLeft_coord.getInfo()['coordinates'][1]\n",
    "xmax, ymax = topRight_coord.getInfo()['coordinates'][0], topRight_coord.getInfo()['coordinates'][1]\n",
    "\n",
    "# adjust bbox to fit lego plates of 32 x 32 pixels of 500 m each \n",
    "width = xmax - xmin\n",
    "height = ymax - ymin\n",
    "width_n = math.ceil(width/legoPlate_size)*legoPlate_size\n",
    "height_n = math.ceil(height/legoPlate_size)*legoPlate_size\n",
    "xmid, ymid = xmin+(xmax-xmin)/2, ymin+(ymax-ymin)/2\n",
    "xmin_n, ymin_n = xmid - width_n/2 , ymid - height_n/2\n",
    "xmax_n, ymax_n = xmid + width_n/2 , ymid + height_n/2\n",
    "\n",
    "print(width_n/width*100, height_n/height*100)\n",
    "print(xmin, ymin, xmax, ymax)\n",
    "print(xmid, ymid)\n",
    "print(xmin_n, ymin_n, xmax_n, ymax_n)\n",
    "print(width_n, height_n)\n",
    "print(f'width = {width_n/500/32} plates | height = {height_n/500/32} plates')\n",
    "print(xmax_n - xmin_n, ymax_n - ymin_n)\n",
    "\n",
    "# convert bbox coords back into degrees - EPSG:4326\n",
    "bottomLeft_coord_n = ee.Geometry.Point([xmin_n, ymin_n], 'EPSG:32649').transform('EPSG:4326', maxError=1)\n",
    "topRight_coord_n = ee.Geometry.Point([xmax_n, ymax_n], 'EPSG:32649').transform('EPSG:4326', maxError=1)\n",
    "xmin, ymin = bottomLeft_coord_n.getInfo()['coordinates'][0], bottomLeft_coord_n.getInfo()['coordinates'][1]\n",
    "xmax, ymax = topRight_coord_n.getInfo()['coordinates'][0], topRight_coord_n.getInfo()['coordinates'][1]\n",
    "print(xmin, ymin, xmax, ymax)\n",
    "print(xmax-xmin, ymax-ymin)"
   ]
  },
  {
   "cell_type": "code",
   "execution_count": 17,
   "id": "38e75fee-93bb-43ae-83f6-431f2689ecdf",
   "metadata": {},
   "outputs": [
    {
     "data": {
      "text/html": [
       "\n",
       "            <style>\n",
       "                .geemap-dark {\n",
       "                    --jp-widgets-color: white;\n",
       "                    --jp-widgets-label-color: white;\n",
       "                    --jp-ui-font-color1: white;\n",
       "                    --jp-layout-color2: #454545;\n",
       "                    background-color: #383838;\n",
       "                }\n",
       "                    \n",
       "                .geemap-dark .jupyter-button {\n",
       "                    --jp-layout-color3: #383838;\n",
       "                }\n",
       "                \n",
       "                .geemap-colab {\n",
       "                    background-color: var(--colab-primary-surface-color, white);\n",
       "                }\n",
       "                    \n",
       "                .geemap-colab .jupyter-button {\n",
       "                    --jp-layout-color3: var(--colab-primary-surface-color, white);\n",
       "                }\n",
       "            </style>\n",
       "            "
      ],
      "text/plain": [
       "<IPython.core.display.HTML object>"
      ]
     },
     "metadata": {},
     "output_type": "display_data"
    },
    {
     "name": "stdout",
     "output_type": "stream",
     "text": [
      "114.5002504816287 22.600179662235\n"
     ]
    }
   ],
   "source": [
    "from math import cos, radians, ceil\n",
    "\n",
    "# Given coordinates\n",
    "xmin = 113.8\n",
    "ymin = 22.1\n",
    "xmax = 114.5\n",
    "ymax = 22.6\n",
    "\n",
    "# Convert width and height from degrees to meters\n",
    "average_latitude = (ymin + ymax) / 2\n",
    "degree_of_longitude_in_meters = 111320 * cos(radians(average_latitude))\n",
    "width_in_meters = (xmax - xmin) * degree_of_longitude_in_meters\n",
    "height_in_meters = (ymax - ymin) * 111320  # Degree of latitude is roughly constant\n",
    "\n",
    "# Adjust the dimensions to be divisible by 32\n",
    "adjusted_width_in_meters = ceil(width_in_meters / 32) * 32\n",
    "adjusted_height_in_meters = ceil(height_in_meters / 32) * 32\n",
    "\n",
    "# Convert back to degrees\n",
    "adjusted_width_in_degrees = adjusted_width_in_meters / degree_of_longitude_in_meters\n",
    "adjusted_height_in_degrees = adjusted_height_in_meters / 111320\n",
    "\n",
    "# Compute the adjusted xmax and ymax values\n",
    "adjusted_xmax = xmin + adjusted_width_in_degrees\n",
    "adjusted_ymax = ymin + adjusted_height_in_degrees\n",
    "\n",
    "print(adjusted_xmax, adjusted_ymax)"
   ]
  },
  {
   "cell_type": "code",
   "execution_count": 124,
   "id": "c521ab63-6e17-4307-8ec5-aa8644f8f390",
   "metadata": {},
   "outputs": [
    {
     "data": {
      "text/html": [
       "\n",
       "            <style>\n",
       "                .geemap-dark {\n",
       "                    --jp-widgets-color: white;\n",
       "                    --jp-widgets-label-color: white;\n",
       "                    --jp-ui-font-color1: white;\n",
       "                    --jp-layout-color2: #454545;\n",
       "                    background-color: #383838;\n",
       "                }\n",
       "                    \n",
       "                .geemap-dark .jupyter-button {\n",
       "                    --jp-layout-color3: #383838;\n",
       "                }\n",
       "                \n",
       "                .geemap-colab {\n",
       "                    background-color: var(--colab-primary-surface-color, white);\n",
       "                }\n",
       "                    \n",
       "                .geemap-colab .jupyter-button {\n",
       "                    --jp-layout-color3: var(--colab-primary-surface-color, white);\n",
       "                }\n",
       "            </style>\n",
       "            "
      ],
      "text/plain": [
       "<IPython.core.display.HTML object>"
      ]
     },
     "metadata": {},
     "output_type": "display_data"
    }
   ],
   "source": [
    "# define bbox\n",
    "xmin = 113.8\n",
    "ymin = 22.1\n",
    "xmax = 114.5\n",
    "ymax = 22.6\n",
    "hk_bbox = ee.Geometry.Rectangle([xmin, ymin, xmax, ymax])\n",
    "map_width_degrees = round(xmax - xmin,1)\n",
    "map_height_degrees = round(ymax - ymin,1)\n",
    "\n",
    "# Load the image and clip it\n",
    "bedrock = ee.Image('projects/tanyatsui/assets/seabed_grid').clip(hk_bbox)\n",
    "# bedrock = bedrock.reproject(crs='EPSG:32649', scale=500)\n",
    "bedrock = bedrock.reproject(crs=bedrock.projection(), scale=500)\n",
    "\n",
    "npixels_width = bedrock.getInfo()['bands'][0]['dimensions'][0]\n",
    "npixels_height = bedrock.getInfo()['bands'][0]['dimensions'][1]"
   ]
  },
  {
   "cell_type": "code",
   "execution_count": 121,
   "id": "563a3515-b3ca-4331-a11f-a37b0e3810aa",
   "metadata": {},
   "outputs": [
    {
     "data": {
      "text/html": [
       "\n",
       "            <style>\n",
       "                .geemap-dark {\n",
       "                    --jp-widgets-color: white;\n",
       "                    --jp-widgets-label-color: white;\n",
       "                    --jp-ui-font-color1: white;\n",
       "                    --jp-layout-color2: #454545;\n",
       "                    background-color: #383838;\n",
       "                }\n",
       "                    \n",
       "                .geemap-dark .jupyter-button {\n",
       "                    --jp-layout-color3: #383838;\n",
       "                }\n",
       "                \n",
       "                .geemap-colab {\n",
       "                    background-color: var(--colab-primary-surface-color, white);\n",
       "                }\n",
       "                    \n",
       "                .geemap-colab .jupyter-button {\n",
       "                    --jp-layout-color3: var(--colab-primary-surface-color, white);\n",
       "                }\n",
       "            </style>\n",
       "            "
      ],
      "text/plain": [
       "<IPython.core.display.HTML object>"
      ]
     },
     "metadata": {},
     "output_type": "display_data"
    }
   ],
   "source": [
    "npixels_width_new = ceil(npixels_width/32)*32\n",
    "npixels_height_new = ceil(npixels_height/32)*32\n",
    "\n",
    "pixel_width_degrees = map_width_degrees / npixels_width\n",
    "pixel_height_degrees = map_height_degrees / npixels_height\n",
    "\n",
    "map_width_degrees_new = pixel_width_degrees * npixels_width_new\n",
    "map_height_degrees_new = pixel_height_degrees * npixels_height_new\n",
    "\n",
    "xmax_new = xmax + map_width_degrees_new\n",
    "ymax_new = ymax + map_height_degrees_new\n",
    "hk_bbox = ee.Geometry.Rectangle([xmin, ymin, xmax_new, ymax_new])\n",
    "bedrock = ee.Image('projects/tanyatsui/assets/seabed_grid').clip(hk_bbox)\n",
    "bedrock = bedrock.reproject(crs=bedrock.projection(), scale=500)"
   ]
  },
  {
   "cell_type": "code",
   "execution_count": 127,
   "id": "fba1970e-c7ac-4968-aae7-0cacf8b8d5dd",
   "metadata": {},
   "outputs": [
    {
     "data": {
      "text/html": [
       "\n",
       "            <style>\n",
       "                .geemap-dark {\n",
       "                    --jp-widgets-color: white;\n",
       "                    --jp-widgets-label-color: white;\n",
       "                    --jp-ui-font-color1: white;\n",
       "                    --jp-layout-color2: #454545;\n",
       "                    background-color: #383838;\n",
       "                }\n",
       "                    \n",
       "                .geemap-dark .jupyter-button {\n",
       "                    --jp-layout-color3: #383838;\n",
       "                }\n",
       "                \n",
       "                .geemap-colab {\n",
       "                    background-color: var(--colab-primary-surface-color, white);\n",
       "                }\n",
       "                    \n",
       "                .geemap-colab .jupyter-button {\n",
       "                    --jp-layout-color3: var(--colab-primary-surface-color, white);\n",
       "                }\n",
       "            </style>\n",
       "            "
      ],
      "text/plain": [
       "<IPython.core.display.HTML object>"
      ]
     },
     "metadata": {},
     "output_type": "display_data"
    },
    {
     "data": {
      "text/plain": [
       "160"
      ]
     },
     "execution_count": 127,
     "metadata": {},
     "output_type": "execute_result"
    }
   ],
   "source": [
    "npixels_width_new"
   ]
  },
  {
   "cell_type": "code",
   "execution_count": 122,
   "id": "b5633cc2-c18c-483c-8608-140dbe72fe17",
   "metadata": {},
   "outputs": [
    {
     "data": {
      "text/html": [
       "\n",
       "            <style>\n",
       "                .geemap-dark {\n",
       "                    --jp-widgets-color: white;\n",
       "                    --jp-widgets-label-color: white;\n",
       "                    --jp-ui-font-color1: white;\n",
       "                    --jp-layout-color2: #454545;\n",
       "                    background-color: #383838;\n",
       "                }\n",
       "                    \n",
       "                .geemap-dark .jupyter-button {\n",
       "                    --jp-layout-color3: #383838;\n",
       "                }\n",
       "                \n",
       "                .geemap-colab {\n",
       "                    background-color: var(--colab-primary-surface-color, white);\n",
       "                }\n",
       "                    \n",
       "                .geemap-colab .jupyter-button {\n",
       "                    --jp-layout-color3: var(--colab-primary-surface-color, white);\n",
       "                }\n",
       "            </style>\n",
       "            "
      ],
      "text/plain": [
       "<IPython.core.display.HTML object>"
      ]
     },
     "metadata": {},
     "output_type": "display_data"
    },
    {
     "data": {
      "text/html": [
       "<div><style>:root {\n",
       "  --font-color-primary: var(--jp-content-font-color0, rgba(0, 0, 0, 1));\n",
       "  --font-color-secondary: var(--jp-content-font-color2, rgba(0, 0, 0, 0.6));\n",
       "  --font-color-accent: rgba(123, 31, 162, 1);\n",
       "  --border-color: var(--jp-border-color2, #e0e0e0);\n",
       "  --background-color: var(--jp-layout-color0, white);\n",
       "  --background-color-row-even: var(--jp-layout-color1, white);\n",
       "  --background-color-row-odd: var(--jp-layout-color2, #eeeeee);\n",
       "}\n",
       "\n",
       "html[theme=\"dark\"],\n",
       "body[data-theme=\"dark\"],\n",
       "body.vscode-dark {\n",
       "  --font-color-primary: rgba(255, 255, 255, 1);\n",
       "  --font-color-secondary: rgba(255, 255, 255, 0.6);\n",
       "  --font-color-accent: rgb(173, 132, 190);\n",
       "  --border-color: #2e2e2e;\n",
       "  --background-color: #111111;\n",
       "  --background-color-row-even: #111111;\n",
       "  --background-color-row-odd: #313131;\n",
       "}\n",
       "\n",
       ".ee {\n",
       "  padding: 1em;\n",
       "  line-height: 1.5em;\n",
       "  min-width: 300px;\n",
       "  max-width: 1200px;\n",
       "  overflow-y: scroll;\n",
       "  max-height: 600px;\n",
       "  border: 1px solid var(--border-color);\n",
       "  font-family: monospace;\n",
       "}\n",
       "\n",
       ".ee li {\n",
       "  list-style-type: none;\n",
       "}\n",
       "\n",
       ".ee ul {\n",
       "  padding-left: 1.5em !important;\n",
       "  margin: 0;\n",
       "}\n",
       "\n",
       ".ee > ul {\n",
       "  padding-left: 0 !important;\n",
       "}\n",
       "\n",
       ".ee-open,\n",
       ".ee-shut {\n",
       "  color: var(--font-color-secondary);\n",
       "  cursor: pointer;\n",
       "  margin: 0;\n",
       "}\n",
       "\n",
       ".ee-open:hover,\n",
       ".ee-shut:hover {\n",
       "  color: var(--font-color-primary);\n",
       "}\n",
       "\n",
       ".ee-k {\n",
       "  color: var(--font-color-accent);\n",
       "  margin-right: 6px;\n",
       "}\n",
       "\n",
       ".ee-v {\n",
       "  color: var(--font-color-primary);\n",
       "}\n",
       "\n",
       ".ee-toggle {\n",
       "  display: none;\n",
       "}\n",
       "\n",
       ".ee-shut + ul {\n",
       "  display: none;\n",
       "}\n",
       "\n",
       ".ee-open + ul {\n",
       "  display: block;\n",
       "}\n",
       "\n",
       ".ee-shut::before {\n",
       "  display: inline-block;\n",
       "  content: \"▼\";\n",
       "  margin-right: 6px;\n",
       "  transform: rotate(-90deg);\n",
       "  transition: transform 0.2s;\n",
       "}\n",
       "\n",
       ".ee-open::before {\n",
       "  transform: rotate(0deg);\n",
       "  display: inline-block;\n",
       "  content: \"▼\";\n",
       "  margin-right: 6px;\n",
       "  transition: transform 0.2s;\n",
       "}\n",
       "</style><div class='ee'><ul><li><label class='ee-shut'>Image projects/tanyatsui/assets/seabed_grid (1 band)<input type='checkbox' class='ee-toggle'></label><ul><li><span class='ee-k'>type:</span><span class='ee-v'>Image</span></li><li><span class='ee-k'>id:</span><span class='ee-v'>projects/tanyatsui/assets/seabed_grid</span></li><li><span class='ee-k'>version:</span><span class='ee-v'>1697383470066752</span></li><li><label class='ee-shut'>bands: List (1 element)<input type='checkbox' class='ee-toggle'></label><ul><li><label class='ee-shut'>0: \"b1\", signed int16, EPSG:4326, 163x121 px<input type='checkbox' class='ee-toggle'></label><ul><li><span class='ee-k'>id:</span><span class='ee-v'>b1</span></li><li><span class='ee-k'>crs:</span><span class='ee-v'>EPSG:4326</span></li><li><label class='ee-shut'>crs_transform: List (6 elements)<input type='checkbox' class='ee-toggle'></label><ul><li><span class='ee-k'>0:</span><span class='ee-v'>0.0044915764205976415</span></li><li><span class='ee-k'>1:</span><span class='ee-v'>0</span></li><li><span class='ee-k'>2:</span><span class='ee-v'>113.72083333333333</span></li><li><span class='ee-k'>3:</span><span class='ee-v'>0</span></li><li><span class='ee-k'>4:</span><span class='ee-v'>0.004491576420597576</span></li><li><span class='ee-k'>5:</span><span class='ee-v'>22.64166666666667</span></li></ul></li><li><label class='ee-shut'>data_type: signed int16<input type='checkbox' class='ee-toggle'></label><ul><li><span class='ee-k'>type:</span><span class='ee-v'>PixelType</span></li><li><span class='ee-k'>max:</span><span class='ee-v'>32767</span></li><li><span class='ee-k'>min:</span><span class='ee-v'>-32768</span></li><li><span class='ee-k'>precision:</span><span class='ee-v'>int</span></li></ul></li><li><label class='ee-shut'>dimensions: [163, 121]<input type='checkbox' class='ee-toggle'></label><ul><li><span class='ee-k'>0:</span><span class='ee-v'>163</span></li><li><span class='ee-k'>1:</span><span class='ee-v'>121</span></li></ul></li><li><label class='ee-shut'>origin: [16, -121]<input type='checkbox' class='ee-toggle'></label><ul><li><span class='ee-k'>0:</span><span class='ee-v'>16</span></li><li><span class='ee-k'>1:</span><span class='ee-v'>-121</span></li></ul></li></ul></li></ul></li><li><label class='ee-shut'>properties: Object (2 properties)<input type='checkbox' class='ee-toggle'></label><ul><li><span class='ee-k'>system:asset_size:</span><span class='ee-v'>25746</span></li><li><label class='ee-shut'>system:footprint: Polygon (8 vertices)<input type='checkbox' class='ee-toggle'></label><ul><li><span class='ee-k'>type:</span><span class='ee-v'>Polygon</span></li><li><label class='ee-shut'>coordinates: List (1 element)<input type='checkbox' class='ee-toggle'></label><ul><li><label class='ee-shut'>0: List (8 elements)<input type='checkbox' class='ee-toggle'></label><ul><li><label class='ee-shut'>0: [114.52325502209952, 22.101508487182365]<input type='checkbox' class='ee-toggle'></label><ul><li><span class='ee-k'>0:</span><span class='ee-v'>114.52325502209952</span></li><li><span class='ee-k'>1:</span><span class='ee-v'>22.101508487182365</span></li></ul></li><li><label class='ee-shut'>1: [114.52327247638628, 22.639583303440244]<input type='checkbox' class='ee-toggle'></label><ul><li><span class='ee-k'>0:</span><span class='ee-v'>114.52327247638628</span></li><li><span class='ee-k'>1:</span><span class='ee-v'>22.639583303440244</span></li></ul></li><li><label class='ee-shut'>2: [114.52143765283006, 22.641503458168568]<input type='checkbox' class='ee-toggle'></label><ul><li><span class='ee-k'>0:</span><span class='ee-v'>114.52143765283006</span></li><li><span class='ee-k'>1:</span><span class='ee-v'>22.641503458168568</span></li></ul></li><li><label class='ee-shut'>3: [114.51988352041823, 22.643624063612155]<input type='checkbox' class='ee-toggle'></label><ul><li><span class='ee-k'>0:</span><span class='ee-v'>114.51988352041823</span></li><li><span class='ee-k'>1:</span><span class='ee-v'>22.643624063612155</span></li></ul></li><li><label class='ee-shut'>4: [114.51913550078064, 22.64375634700566]<input type='checkbox' class='ee-toggle'></label><ul><li><span class='ee-k'>0:</span><span class='ee-v'>114.51913550078064</span></li><li><span class='ee-k'>1:</span><span class='ee-v'>22.64375634700566</span></li></ul></li><li><label class='ee-shut'>5: [113.8, 22.6439290805123]<input type='checkbox' class='ee-toggle'></label><ul><li><span class='ee-k'>0:</span><span class='ee-v'>113.8</span></li><li><span class='ee-k'>1:</span><span class='ee-v'>22.6439290805123</span></li></ul></li><li><label class='ee-shut'>6: [113.8, 22.1]<input type='checkbox' class='ee-toggle'></label><ul><li><span class='ee-k'>0:</span><span class='ee-v'>113.8</span></li><li><span class='ee-k'>1:</span><span class='ee-v'>22.1</span></li></ul></li><li><label class='ee-shut'>7: [114.52325502209952, 22.101508487182365]<input type='checkbox' class='ee-toggle'></label><ul><li><span class='ee-k'>0:</span><span class='ee-v'>114.52325502209952</span></li><li><span class='ee-k'>1:</span><span class='ee-v'>22.101508487182365</span></li></ul></li></ul></li></ul></li></ul></li></ul></li></ul></li></ul></div><script>function toggleHeader() {\n",
       "    const parent = this.parentElement;\n",
       "    parent.className = parent.className === \"ee-open\" ? \"ee-shut\" : \"ee-open\";\n",
       "}\n",
       "\n",
       "for (let c of document.getElementsByClassName(\"ee-toggle\")) {\n",
       "    c.onclick = toggleHeader;\n",
       "}</script></div>"
      ],
      "text/plain": [
       "<ee.image.Image at 0x2e33a1e8d30>"
      ]
     },
     "execution_count": 122,
     "metadata": {},
     "output_type": "execute_result"
    }
   ],
   "source": [
    "bedrock"
   ]
  },
  {
   "cell_type": "code",
   "execution_count": 195,
   "id": "bf1051bf-6701-421a-ad09-4c5c747904db",
   "metadata": {},
   "outputs": [
    {
     "data": {
      "text/html": [
       "\n",
       "            <style>\n",
       "                .geemap-dark {\n",
       "                    --jp-widgets-color: white;\n",
       "                    --jp-widgets-label-color: white;\n",
       "                    --jp-ui-font-color1: white;\n",
       "                    --jp-layout-color2: #454545;\n",
       "                    background-color: #383838;\n",
       "                }\n",
       "                    \n",
       "                .geemap-dark .jupyter-button {\n",
       "                    --jp-layout-color3: #383838;\n",
       "                }\n",
       "                \n",
       "                .geemap-colab {\n",
       "                    background-color: var(--colab-primary-surface-color, white);\n",
       "                }\n",
       "                    \n",
       "                .geemap-colab .jupyter-button {\n",
       "                    --jp-layout-color3: var(--colab-primary-surface-color, white);\n",
       "                }\n",
       "            </style>\n",
       "            "
      ],
      "text/plain": [
       "<IPython.core.display.HTML object>"
      ]
     },
     "metadata": {},
     "output_type": "display_data"
    }
   ],
   "source": [
    "# elevation data \n",
    "srtm = ee.Image('USGS/SRTMGL1_003')\n",
    "hk_elevation = srtm.clip(hk_bbox)\n",
    "hk_elevation = hk_elevation.reproject(crs='EPSG:3857', crsTransform=modis_transform)\n",
    "combined_mask = political_boundary.And(land)\n",
    "hk_elevation = hk_elevation.mask(combined_mask)\n",
    "\n",
    "classified_image = hk_elevation.lte(250).multiply(1)\n",
    "classified_image = classified_image.add(hk_elevation.gt(250).And(hk_elevation.lte(500)).multiply(2))\n",
    "classified_image = classified_image.add(hk_elevation.gt(500).And(hk_elevation.lte(750)).multiply(3))\n",
    "classified_image = classified_image.add(hk_elevation.gt(750).multiply(4))"
   ]
  },
  {
   "cell_type": "code",
   "execution_count": 202,
   "id": "6037c289-b945-4dce-a6e7-4153e86a96cf",
   "metadata": {},
   "outputs": [
    {
     "data": {
      "text/html": [
       "\n",
       "            <style>\n",
       "                .geemap-dark {\n",
       "                    --jp-widgets-color: white;\n",
       "                    --jp-widgets-label-color: white;\n",
       "                    --jp-ui-font-color1: white;\n",
       "                    --jp-layout-color2: #454545;\n",
       "                    background-color: #383838;\n",
       "                }\n",
       "                    \n",
       "                .geemap-dark .jupyter-button {\n",
       "                    --jp-layout-color3: #383838;\n",
       "                }\n",
       "                \n",
       "                .geemap-colab {\n",
       "                    background-color: var(--colab-primary-surface-color, white);\n",
       "                }\n",
       "                    \n",
       "                .geemap-colab .jupyter-button {\n",
       "                    --jp-layout-color3: var(--colab-primary-surface-color, white);\n",
       "                }\n",
       "            </style>\n",
       "            "
      ],
      "text/plain": [
       "<IPython.core.display.HTML object>"
      ]
     },
     "metadata": {},
     "output_type": "display_data"
    }
   ],
   "source": [
    "hk_bbox = ee.Geometry.Rectangle([113.8, 22.1, 114.5, 22.6])\n",
    "\n",
    "# land boundary\n",
    "land_cover = ee.Image(\"MODIS/051/MCD12Q1/2001_01_01\").select('Land_Cover_Type_1').clip(hk_bbox)\n",
    "modis_projection = land_cover.projection()\n",
    "modis_crs = original_projection.getInfo()['crs']\n",
    "modis_transform = original_projection.getInfo()['transform']\n",
    "land_cover = land_cover.reproject(crs='EPSG:3857', crsTransform=modis_transform)\n",
    "mask = land_cover.neq(0)\n",
    "land = land_cover.mask(mask)\n",
    "land = land.neq(0)\n",
    "\n",
    "# political boundary\n",
    "hk_boundary = ox.geocode_to_gdf(\"Hong Kong, China\")\n",
    "hk_geojson = json.loads(hk_boundary.to_json())\n",
    "hk_boundary = ee.Geometry.MultiPolygon(hk_geojson['features'][0]['geometry']['coordinates'])\n",
    "hk_mask = ee.Image().byte().paint(hk_boundary, 1)\n",
    "hk_mask = hk_mask.reproject(crs='EPSG:3857', crsTransform=modis_transform)\n",
    "political_boundary = land_cover.multiply(hk_mask)\n",
    "\n",
    "# elevation data \n",
    "srtm = ee.Image('USGS/SRTMGL1_003')\n",
    "hk_elevation = srtm.clip(hk_bbox)\n",
    "hk_elevation = hk_elevation.reproject(crs='EPSG:3857', crsTransform=modis_transform)\n",
    "combined_mask = political_boundary.And(land)\n",
    "hk_elevation = hk_elevation.mask(combined_mask)\n",
    "\n",
    "# bedrock elevation data (to see elevation under the sea)\n",
    "gebco = ee.Image('NOAA/NGDC/ETOPO1').select('bedrock') \n",
    "hk_seaFloor = gebco.clip(hk_bbox)\n",
    "hk_seaFloor = hk_seaFloor.reproject(crs='EPSG:3857', crsTransform=modis_transform)\n",
    "array_data = hk_seaFloor.sampleRectangle(region=hk_bbox, defaultValue=0).get('bedrock').getInfo()\n",
    "hk_seaFloor_array = np.array(array_data)\n",
    "\n",
    "# built area\n",
    "built = land_cover.eq(13)  # \"Urban and Built-Up\" class\n",
    "combined_mask = combined_mask.And(built)\n",
    "built = built.reproject(crs='EPSG:3857', crsTransform=modis_transform)\n",
    "built = built.mask(combined_mask)"
   ]
  }
 ],
 "metadata": {
  "kernelspec": {
   "display_name": "Python 3 (ipykernel)",
   "language": "python",
   "name": "python3"
  },
  "language_info": {
   "codemirror_mode": {
    "name": "ipython",
    "version": 3
   },
   "file_extension": ".py",
   "mimetype": "text/x-python",
   "name": "python",
   "nbconvert_exporter": "python",
   "pygments_lexer": "ipython3",
   "version": "3.8.18"
  }
 },
 "nbformat": 4,
 "nbformat_minor": 5
}
