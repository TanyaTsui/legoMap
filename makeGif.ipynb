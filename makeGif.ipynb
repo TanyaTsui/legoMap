{
 "cells": [
  {
   "cell_type": "code",
   "execution_count": null,
   "metadata": {},
   "outputs": [],
   "source": [
    "import os\n",
    "from PIL import Image"
   ]
  },
  {
   "cell_type": "code",
   "execution_count": 13,
   "metadata": {},
   "outputs": [],
   "source": [
    "image_directory = 'results/medium/assembly photos'\n",
    "image_files = [file for file in os.listdir(image_directory) if file.endswith('.jpg') or file.endswith('.png')]\n",
    "image_files.sort()\n",
    "\n",
    "# Ensure that all images are in the same mode (such as RGB)\n",
    "images = [Image.open(os.path.join(image_directory, file)).convert('RGB') for file in image_files]\n",
    "\n",
    "# Resize images if necessary\n",
    "resized_images = [image.resize((int(4032/8), int(3024/8))) for image in images]  # Adjust the size according to your requirements\n",
    "\n",
    "# Save as GIF\n",
    "resized_images[0].save('animation.gif', save_all=True, append_images=resized_images[1:], duration=200, loop=0)"
   ]
  }
 ],
 "metadata": {
  "kernelspec": {
   "display_name": "geo_raster",
   "language": "python",
   "name": "python3"
  },
  "language_info": {
   "codemirror_mode": {
    "name": "ipython",
    "version": 3
   },
   "file_extension": ".py",
   "mimetype": "text/x-python",
   "name": "python",
   "nbconvert_exporter": "python",
   "pygments_lexer": "ipython3",
   "version": "3.8.18"
  }
 },
 "nbformat": 4,
 "nbformat_minor": 2
}
